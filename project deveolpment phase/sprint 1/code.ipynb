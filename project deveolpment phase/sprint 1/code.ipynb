{
 "cells": [
  {
   "cell_type": "code",
   "execution_count": null,
   "metadata": {},
   "outputs": [],
   "source": []
  }
 ],
 "metadata": {
  "kernelspec": {
   "display_name": "Python 3.9.11 64-bit",
   "language": "python",
   "name": "python3"
  },
  "language_info": {
   "name": "python",
   "version": "3.9.11"
  },
  "orig_nbformat": 4,
  "vscode": {
   "interpreter": {
    "hash": "ec1f4382e1796e4aca30cabb0ec51fac13e74831d675e5f70d6623b69632e3ed"
   }
  }
 },
 "nbformat": 4,
 "nbformat_minor": 2
}
